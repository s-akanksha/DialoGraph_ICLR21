{
 "cells": [
  {
   "cell_type": "code",
   "execution_count": 1,
   "metadata": {},
   "outputs": [
    {
     "ename": "ModuleNotFoundError",
     "evalue": "No module named 'numpy'",
     "output_type": "error",
     "traceback": [
      "\u001b[0;31m---------------------------------------------------------------------------\u001b[0m",
      "\u001b[0;31mModuleNotFoundError\u001b[0m                       Traceback (most recent call last)",
      "\u001b[0;32m/tmp/ipykernel_160039/1020749707.py\u001b[0m in \u001b[0;36m<module>\u001b[0;34m\u001b[0m\n\u001b[1;32m      5\u001b[0m \u001b[0;32mimport\u001b[0m \u001b[0msys\u001b[0m\u001b[0;34m\u001b[0m\u001b[0;34m\u001b[0m\u001b[0m\n\u001b[1;32m      6\u001b[0m \u001b[0msys\u001b[0m\u001b[0;34m.\u001b[0m\u001b[0mpath\u001b[0m\u001b[0;34m.\u001b[0m\u001b[0mappend\u001b[0m\u001b[0;34m(\u001b[0m\u001b[0;34m\"numpy_path\"\u001b[0m\u001b[0;34m)\u001b[0m\u001b[0;34m\u001b[0m\u001b[0;34m\u001b[0m\u001b[0m\n\u001b[0;32m----> 7\u001b[0;31m \u001b[0;32mimport\u001b[0m \u001b[0mnumpy\u001b[0m \u001b[0;32mas\u001b[0m \u001b[0mnp\u001b[0m\u001b[0;34m\u001b[0m\u001b[0;34m\u001b[0m\u001b[0m\n\u001b[0m\u001b[1;32m      8\u001b[0m \u001b[0;31m#from matplotlib.patches import Polygon\u001b[0m\u001b[0;34m\u001b[0m\u001b[0;34m\u001b[0m\u001b[0;34m\u001b[0m\u001b[0m\n\u001b[1;32m      9\u001b[0m \u001b[0;32mimport\u001b[0m \u001b[0mpickle\u001b[0m\u001b[0;34m\u001b[0m\u001b[0;34m\u001b[0m\u001b[0m\n",
      "\u001b[0;31mModuleNotFoundError\u001b[0m: No module named 'numpy'"
     ]
    }
   ],
   "source": [
    "\n",
    "import json\n",
    "import pdb\n",
    "from collections import defaultdict as ddict\n",
    "import matplotlib.pyplot as plt\n",
    "import numpy as np\n",
    "from matplotlib.patches import Polygon\n",
    "import pickle\n",
    "from pprint import pprint\n",
    "import sys, os\n",
    "\n",
    "# Yiheng file for strategies and DA\n",
    "import inspect\n",
    "src_file_path = inspect.getfile(lambda: None)\n",
    "sys.path.append(os.path.join(os.path.dirname(os.path.dirname(os.path.abspath(\"__file__\"))), 'yiheng_findfeatures/'))\n",
    "from dialog_acts_extractor import *\n",
    "%matplotlib inline"
   ]
  },
  {
   "cell_type": "code",
   "execution_count": null,
   "metadata": {},
   "outputs": [],
   "source": [
    "train_data = json.load(open('https://worksheets.codalab.org/rest/bundles/0xd34bbbc5fb3b4fccbd19e10756ca8dd7/contents/blob/parsed.json', 'r'))\n",
    "test_data = json.load(open('https://worksheets.codalab.org/rest/bundles/0x15c4160b43d44ee3a8386cca98da138c/contents/blob/parsed.json', 'r'))\n",
    "dev_data = json.load(open('https://worksheets.codalab.org/rest/bundles/0x54d325bbcfb2463583995725ed8ca42b/contents/blob/parse.json', 'r'))"
   ]
  },
  {
   "cell_type": "code",
   "execution_count": null,
   "metadata": {},
   "outputs": [
    {
     "name": "stdout",
     "output_type": "stream",
     "text": [
      "5383 656 643\n",
      "6682\n"
     ]
    }
   ],
   "source": [
    "print(len(train_data), len(test_data), len(dev_data))\n",
    "print (len(train_data) + len(test_data) + len(dev_data))"
   ]
  },
  {
   "cell_type": "code",
   "execution_count": null,
   "metadata": {},
   "outputs": [
    {
     "name": "stdout",
     "output_type": "stream",
     "text": [
      "dict_keys(['uuid', 'scenario', 'scenario_uuid', 'agents', 'outcome', 'events'])\n"
     ]
    }
   ],
   "source": [
    "print(train_data[0].keys())"
   ]
  },
  {
   "cell_type": "code",
   "execution_count": null,
   "metadata": {},
   "outputs": [
    {
     "name": "stdout",
     "output_type": "stream",
     "text": [
      "dict_keys(['category', 'uuid', 'post_id', 'kbs', 'attributes', 'intersection'])\n"
     ]
    }
   ],
   "source": [
    "print(train_data[0]['scenario'].keys())"
   ]
  },
  {
   "cell_type": "code",
   "execution_count": null,
   "metadata": {},
   "outputs": [
    {
     "name": "stdout",
     "output_type": "stream",
     "text": [
      "[{'entity': False,\n",
      "  'multivalued': False,\n",
      "  'name': 'Role',\n",
      "  'unique': False,\n",
      "  'value_type': 'role'},\n",
      " {'entity': False,\n",
      "  'multivalued': False,\n",
      "  'name': 'Bottomline',\n",
      "  'unique': False,\n",
      "  'value_type': 'price'},\n",
      " {'entity': False,\n",
      "  'multivalued': False,\n",
      "  'name': 'Target',\n",
      "  'unique': False,\n",
      "  'value_type': 'price'},\n",
      " {'entity': False,\n",
      "  'multivalued': False,\n",
      "  'name': 'Title',\n",
      "  'unique': False,\n",
      "  'value_type': 'text'},\n",
      " {'entity': False,\n",
      "  'multivalued': False,\n",
      "  'name': 'Category',\n",
      "  'unique': False,\n",
      "  'value_type': 'text'},\n",
      " {'entity': False,\n",
      "  'multivalued': False,\n",
      "  'name': 'Price',\n",
      "  'unique': False,\n",
      "  'value_type': 'price'},\n",
      " {'entity': False,\n",
      "  'multivalued': False,\n",
      "  'name': 'Images',\n",
      "  'unique': False,\n",
      "  'value_type': 'text'},\n",
      " {'entity': False,\n",
      "  'multivalued': False,\n",
      "  'name': 'Description',\n",
      "  'unique': False,\n",
      "  'value_type': 'text'}]\n"
     ]
    }
   ],
   "source": [
    "pprint(train_data[0]['scenario']['attributes'])"
   ]
  },
  {
   "cell_type": "code",
   "execution_count": null,
   "metadata": {},
   "outputs": [
    {
     "name": "stdout",
     "output_type": "stream",
     "text": [
      "[{'action': 'message',\n",
      "  'agent': 0,\n",
      "  'data': 'Hi, not sure if the charger would work for my car. Can you sell it '\n",
      "          'to me for $5?',\n",
      "  'start_time': '1496341261.23',\n",
      "  'time': '1496341272.93'},\n",
      " {'action': 'message',\n",
      "  'agent': 1,\n",
      "  'data': 'It will work, i have never seen a car without a cigarette lighter '\n",
      "          'port.\\\\',\n",
      "  'start_time': '1496341284.35',\n",
      "  'time': '1496341307.92'},\n",
      " {'action': 'message',\n",
      "  'agent': 0,\n",
      "  'data': \"Still, can I buy it for $5? I'm on a tight budge\",\n",
      "  'start_time': '1496341318.6',\n",
      "  'time': '1496341329.15'},\n",
      " {'action': 'message',\n",
      "  'agent': 1,\n",
      "  'data': 'I think the lowest I would want to go is 8. ',\n",
      "  'start_time': '1496341336.93',\n",
      "  'time': '1496341345.99'},\n",
      " {'action': 'message',\n",
      "  'agent': 0,\n",
      "  'data': \"How about $6 and I pick it up myself? It'll save you shipping to \"\n",
      "          'me.',\n",
      "  'start_time': '1496341364.25',\n",
      "  'time': '1496341376.38'},\n",
      " {'action': 'message',\n",
      "  'agent': 1,\n",
      "  'data': '7, and we have a deal.',\n",
      "  'start_time': '1496341384.1',\n",
      "  'time': '1496341391.82'},\n",
      " {'action': 'message',\n",
      "  'agent': 0,\n",
      "  'data': 'Eh, fine. $7.',\n",
      "  'start_time': '1496341396.89',\n",
      "  'time': '1496341400.98'},\n",
      " {'action': 'offer',\n",
      "  'agent': 0,\n",
      "  'data': {'price': 7.0, 'sides': ''},\n",
      "  'start_time': None,\n",
      "  'time': '1496341417.71'},\n",
      " {'action': 'accept',\n",
      "  'agent': 1,\n",
      "  'data': None,\n",
      "  'start_time': None,\n",
      "  'time': '1496341426.16'}]\n"
     ]
    }
   ],
   "source": [
    "pprint(train_data[0]['events'])"
   ]
  },
  {
   "cell_type": "code",
   "execution_count": null,
   "metadata": {},
   "outputs": [],
   "source": [
    "def print_conv(data):\n",
    "    '''\n",
    "    Takes data (eg train_data[1210])\n",
    "    Prints conversation nicely\n",
    "    '''\n",
    "    print ('\\n'.join(['AGENT '+str(i['agent']) + ' : ' + i['data'] for i in data['events'] if i['action'] not in ['quit', \n",
    "                                                                                                                  'accept', \n",
    "                                                                                                                  'offer',\n",
    "                                                                                                                 'reject']]))"
   ]
  },
  {
   "cell_type": "code",
   "execution_count": null,
   "metadata": {},
   "outputs": [
    {
     "name": "stdout",
     "output_type": "stream",
     "text": [
      "AGENT 1 : Hey there, you're interested in the amp?\n",
      "AGENT 0 : I am.  Can you tell me how old/new it is?\n",
      "AGENT 1 : It's only about 6 months, my band was beginning to do gigs but we had a falling out. Now I need to sell it because I'm going back to work. What's your budget?\n",
      "AGENT 0 : $45 seems a little high considering it is used.  How low do you think you can go?  I was thinking about $25\n",
      "AGENT 1 : I can't do that, it's barely used and it needs a good owner like you to crank it up to 11. I've only used it at about 7. I can do 35 lowest.\n",
      "AGENT 0 : Youre at 35, Im at 25.  How about we just meet in the middle at 30 and let this bad boy start rockin'?\n"
     ]
    }
   ],
   "source": [
    "print_conv(train_data[2121]) # this one was rejected"
   ]
  },
  {
   "cell_type": "markdown",
   "metadata": {},
   "source": [
    "# Extract dialog acts / negotiation strategies"
   ]
  },
  {
   "cell_type": "code",
   "execution_count": null,
   "metadata": {},
   "outputs": [
    {
     "data": {
      "text/plain": [
       "'C_a33de62998364c489f8dafd29a610566'"
      ]
     },
     "execution_count": 34,
     "metadata": {},
     "output_type": "execute_result"
    }
   ],
   "source": [
    "train_data[2085]['uuid']"
   ]
  },
  {
   "cell_type": "code",
   "execution_count": null,
   "metadata": {},
   "outputs": [
    {
     "name": "stdout",
     "output_type": "stream",
     "text": [
      "AGENT 0 : Hello\n",
      "AGENT 1 : Hi.\n",
      "AGENT 0 : So I'm interested in buying the parisian cornice double shelving\n",
      "AGENT 1 : Great. I am located in Mateca. When would u like to pick up?\n",
      "AGENT 0 : I can pick up whenever.  How much are you selling for?\n",
      "AGENT 1 : 600 is what I am asking\n",
      "AGENT 0 : What condition is the shelving in?\n",
      "AGENT 1 : Good condition!\n",
      "AGENT 0 : If I come to pick it up when you want and haul it away, would you be willing to do $525?\n"
     ]
    }
   ],
   "source": [
    "print_conv(train_data[2085])"
   ]
  },
  {
   "cell_type": "code",
   "execution_count": null,
   "metadata": {},
   "outputs": [],
   "source": [
    "#diaacts = extract_acts(train_data[0])\n",
    "new_data = train_data[2085]\n",
    "for i in range(len(new_data['events'])):\n",
    "    if type(new_data['events'][i]['data']) == str:\n",
    "        new_data['events'][i]['data'] = new_data['events'][i]['data'].lower()\n",
    "#new_data\n",
    "seqacts = extract_seq_acts(new_data)"
   ]
  },
  {
   "cell_type": "code",
   "execution_count": null,
   "metadata": {},
   "outputs": [
    {
     "name": "stdout",
     "output_type": "stream",
     "text": [
      "[[0, 0, 0, 0, 0, 0, 0, 0, 0, 0, 0, 0, 0, 0, 0, 0, 0, 0, 0, 0, 0, 0, 0, 0, 0, 0, 0, 0, 0, 0, 0, 0, 0, 0, 0, 0, 0, 0, 0, 0, 1], [0, 0, 0, 0, 0, 0, 0, 0, 0, 0, 0, 0, 0, 0, 0, 0, 0, 0, 0, 0, 0, 0, 0, 0, 0, 0, 0, 0, 0, 0, 0, 0, 0, 0, 0, 0, 0, 0, 0, 0, 0], [0, 0, 0, 0, 0, 0, 0, 0, 0, 0, 0, 0, 0, 0, 0, 0, 0, 0, 0, 0, 0, 0, 0, 0, 0, 0, 0, 0, 0, 0, 0, 0, 0, 0, 0, 0, 0, 0, 0, 0, 0], [0, 1, 0, 0, 0, 1, 0, 0, 0, 0, 0, 0, 1, 1, 0, 0, 1, 0, 0, 0, 0, 0, 0, 0, 0, 0, 0, 0, 0, 0, 0, 0, 0, 0, 0, 0, 0, 0, 0, 0, 0], [0, 0, 0, 0, 0, 0, 0, 1, 0, 0, 0, 0, 0, 0, 0, 0, 0, 0, 0, 0, 0, 0, 0, 0, 0, 0, 0, 0, 0, 0, 0, 0, 0, 0, 0, 0, 0, 0, 0, 0, 0], [0, 0, 0, 0, 0, 1, 0, 0, 0, 0, 0, 0, 0, 0, 0, 0, 0, 0, 0, 0, 0, 0, 0, 0, 0, 0, 0, 0, 0, 0, 0, 0, 0, 0, 0, 0, 0, 0, 0, 0, 0], [0, 0, 0, 0, 0, 0, 0, 0, 0, 0, 0, 0, 0, 0, 0, 0, 0, 0, 0, 0, 0, 0, 0, 0, 0, 0, 0, 0, 0, 0, 0, 0, 0, 0, 0, 0, 0, 0, 0, 0, 0], [0, 1, 0, 0, 0, 0, 0, 0, 0, 0, 0, 0, 1, 0, 0, 0, 0, 0, 0, 0, 0, 0, 0, 0, 0, 0, 0, 0, 0, 0, 0, 0, 0, 0, 0, 0, 0, 0, 0, 0, 0], [0, 0, 0, 0, 0, 0, 0, 1, 0, 0, 1, 0, 0, 0, 0, 0, 0, 1, 0, 0, 0, 0, 0, 0, 0, 0, 0, 0, 0, 0, 0, 0, 0, 0, 0, 0, 0, 0, 0, 0, 0], [0, 0, 0, 0, 0, 0, 0, 0, 0, 0, 0, 0, 0, 0, 0, 0, 0, 0, 0, 0, 0, 0, 0, 0, 0, 0, 0, 0, 0, 0, 0, 0, 0, 0, 0, 0, 0, 0, 0, 0, 0]]\n"
     ]
    }
   ],
   "source": [
    "print(seqacts[1])"
   ]
  },
  {
   "cell_type": "code",
   "execution_count": null,
   "metadata": {},
   "outputs": [
    {
     "name": "stdout",
     "output_type": "stream",
     "text": [
      "6025/6026\n",
      "defaultdict(<class 'int'>, {0: 2798, 1: 10337, 2: 1252, 3: 10582, 4: 1628, 5: 11082, 6: 868, 7: 13466, 8: 8750, 9: 1020, 10: 7992, 11: 758, 12: 17331, 13: 10158, 14: 5298, 15: 3233, 16: 5084, 17: 7153, 18: 2071, 19: 1741, 20: 1589, 21: 1557, 22: 1019, 23: 858, 24: 8948, 25: 0, 26: 2501, 27: 1875, 28: 52, 29: 669, 30: 58, 31: 0, 32: 0, 33: 0, 34: 214, 35: 143, 36: 185, 37: 1107, 38: 45, 39: 3266, 40: 3877})\n"
     ]
    }
   ],
   "source": [
    "my_freq = ddict(int) # id too freq\n",
    "full_data = train_data + dev_data\n",
    "for i in range(len(full_data)):\n",
    "    print (f'{i}/{len(full_data)}', end = '\\r')\n",
    "    for j in range(len(full_data[i]['events'])):\n",
    "        if type(full_data[i]['events'][j]['data']) == str:\n",
    "            full_data[i]['events'][j]['data'] = full_data[i]['events'][j]['data'].lower()\n",
    "    #strats = extract_seq_acts(full_data[i])\n",
    "    strats = extract_acts(full_data[i])\n",
    "    strats = strats[1]\n",
    "    for j in range(len(strats)):\n",
    "        for idx, val in enumerate(strats[j]):\n",
    "            my_freq[idx] += val\n",
    "print ()\n",
    "print (my_freq)"
   ]
  },
  {
   "cell_type": "code",
   "execution_count": null,
   "metadata": {},
   "outputs": [],
   "source": [
    "dialog = train_data[2085]\n",
    "scene = dialog['scenario']['kbs'][1]['item']['Category'] + ' ' + ' '.join(dialog['scenario']['kbs'][1]['item']['Description']) + ' ' + dialog['scenario']['kbs'][1]['item']['Title']"
   ]
  },
  {
   "cell_type": "code",
   "execution_count": null,
   "metadata": {},
   "outputs": [
    {
     "name": "stdout",
     "output_type": "stream",
     "text": [
      "furniture The late-20th-century postmodern movement embraced centuries of design, combining pared-down modernism with classical detail. Both are reflected in our tower, an exacting reproduction of the French original. Finish/Color - Brown Oak Drifted Item located in Manteca, CA. Original picture is from RH.com Restoration Hardware PARISIAN CORNICE DOUBLE SHELVING\n"
     ]
    }
   ],
   "source": [
    "print(scene)"
   ]
  },
  {
   "cell_type": "code",
   "execution_count": null,
   "metadata": {},
   "outputs": [],
   "source": [
    "# seqacts[1]"
   ]
  },
  {
   "cell_type": "code",
   "execution_count": null,
   "metadata": {},
   "outputs": [],
   "source": [
    "# TAKEN FROM YIHENG'S CODE!!!\n",
    "recommendation_feature_mapping = {\"seller_neg_sentiment\":0,\"seller_pos_sentiment\":1,\n",
    "                                  \"buyer_neg_sentiment\":2,\"buyer_pos_sentiment\":3,\n",
    "                                  \"first_person_plural_count_seller\":4,\"first_person_singular_count_seller\":5,\n",
    "                                  \"first_person_plural_count_buyer\":6,\"first_person_singular_count_buyer\":7,\n",
    "                                  \"third_person_singular_seller\":8,\"third_person_plural_seller\":9,\n",
    "                                  \"third_person_singular_buyer\":10,\"third_person_plural_buyer\":11,\n",
    "                                  \"number_of_diff_dic_pos\":12,\"number_of_diff_dic_neg\":13,\n",
    "                                  \"buyer_propose\":14,\"seller_propose\":15,\n",
    "                                  \"hedge_count_seller\":16,\"hedge_count_buyer\":17,\n",
    "                                  \"assertive_count_seller\":18,\"assertive_count_buyer\":19,\n",
    "                                  \"factive_count_seller\":20,\"factive_count_buyer\":21,\n",
    "                                  \"who_propose\":22,\"seller_trade_in\":23,\n",
    "                                  \"personal_concern_seller\":24,\"sg_concern\":25,\n",
    "                                  \"liwc_certainty\":26,\"liwc_informal\":27,\n",
    "                                  \"politeness_seller_please\":28,\"politeness_seller_gratitude\":29,\n",
    "                                  \"politeness_seller_please_s\":30,\n",
    "                                  \"ap_des\":31,\"ap_pata\":32,\"ap_infer\":33,\n",
    "                                  \"family\":34,\"friend\":35,\n",
    "                                  \"politeness_buyer_please\":36,\"politeness_buyer_gratitude\":37,\n",
    "                                  \"politeness_buyer_please_s\":38,\n",
    "                                  \"politeness_seller_greet\":39,\"politeness_buyer_greet\":40}"
   ]
  },
  {
   "cell_type": "markdown",
   "metadata": {},
   "source": [
    "### Features used"
   ]
  },
  {
   "cell_type": "code",
   "execution_count": null,
   "metadata": {},
   "outputs": [],
   "source": [
    "recommendation_feature_reverse_mapping = {v:k for k, v in recommendation_feature_mapping.items()}"
   ]
  },
  {
   "cell_type": "code",
   "execution_count": null,
   "metadata": {},
   "outputs": [],
   "source": [
    "def get_strategies(bag_of_strategies):\n",
    "    '''\n",
    "    Takes a bag of strategies which is list of (len dialogue) * 41 (features)\n",
    "    And returns the non one hot encoding\n",
    "    '''\n",
    "    return [[recommendation_feature_reverse_mapping[i] for i, val in enumerate(onedia) if val == 1] for onedia in bag_of_strategies]"
   ]
  },
  {
   "cell_type": "code",
   "execution_count": null,
   "metadata": {},
   "outputs": [
    {
     "data": {
      "text/plain": [
       "[['politeness_buyer_greet'],\n",
       " [],\n",
       " [],\n",
       " ['seller_pos_sentiment',\n",
       "  'first_person_singular_count_seller',\n",
       "  'number_of_diff_dic_pos',\n",
       "  'number_of_diff_dic_neg',\n",
       "  'hedge_count_seller'],\n",
       " ['first_person_singular_count_buyer'],\n",
       " ['first_person_singular_count_seller'],\n",
       " [],\n",
       " ['seller_pos_sentiment', 'number_of_diff_dic_pos'],\n",
       " ['first_person_singular_count_buyer',\n",
       "  'third_person_singular_buyer',\n",
       "  'hedge_count_buyer'],\n",
       " []]"
      ]
     },
     "execution_count": 49,
     "metadata": {},
     "output_type": "execute_result"
    }
   ],
   "source": [
    "get_strategies(seqacts[1])"
   ]
  },
  {
   "cell_type": "code",
   "execution_count": null,
   "metadata": {},
   "outputs": [],
   "source": [
    "def addStrategies(data):\n",
    "    '''\n",
    "    Takes raw data then adds strategies in each event\n",
    "    '''\n",
    "    new_data = data.copy()\n",
    "    for i in range(len(data)):\n",
    "        #dia_strategies = get_strategies(extract_seq_acts(data[i])[1])\n",
    "        dia_strategies = get_strategies(extract_acts(data[i])[1])\n",
    "        # data[i]['events'][j]['strategies'] = []\n",
    "        for j in range(len(dia_strategies)):\n",
    "            #if len(new_data[i]['events']) != len(dia_strategies):\n",
    "            #    pdb.set_trace()\n",
    "            new_data[i]['events'][j]['strategies'] = dia_strategies[j]\n",
    "        if i % 100 == 0: print (\"Done : {} / {}\".format(i, len(data)), end = '\\r')\n",
    "    print ('\\n')\n",
    "    return new_data"
   ]
  },
  {
   "cell_type": "code",
   "execution_count": null,
   "metadata": {},
   "outputs": [
    {
     "name": "stdout",
     "output_type": "stream",
     "text": [
      "Done : 5300 / 5383\n",
      "\n",
      "Done : 600 / 656\n",
      "\n",
      "Done : 600 / 643\n",
      "\n"
     ]
    }
   ],
   "source": [
    "data_w_strategies = {\n",
    "    'train': addStrategies(train_data),\n",
    "    'test': addStrategies(test_data),\n",
    "    'dev': addStrategies(dev_data),}\n",
    "pickle.dump(data_w_strategies, open('/home/blue_bird/Coding/Dialograph/DialoGraph_ICLR21/src/preproc/.ipynb_checkpoints/data_w_strategies.pkl', 'wb'))"
   ]
  },
  {
   "cell_type": "markdown",
   "metadata": {},
   "source": [
    "# ADD PRICES !!!!!"
   ]
  },
  {
   "cell_type": "code",
   "execution_count": null,
   "metadata": {},
   "outputs": [],
   "source": [
    "def getAmountFromSent(sent):\n",
    "    '''\n",
    "    Takes a sent and returns the first amount seen in that\n",
    "    '''\n",
    "    import re\n",
    "    import string\n",
    "    #print (re.findall(r'\\d+', sent))\n",
    "    rr = re.findall(\"[-+]?[.]?[\\d]+(?:,\\d\\d\\d)*[\\.]?\\d*(?:[eE][-+]?\\d+)?\", sent)\n",
    "#    print (rr)\n",
    "    rr2 = [float(x.translate(str.maketrans('', '', string.punctuation))) for x in rr]\n",
    "    return min(rr2)\n",
    "\n",
    "def getAmounts(datapoint):\n",
    "    '''\n",
    "    Takes a data point and returns buyer_amt, seller_amt, final_amt and is_accept\n",
    "    Can update it to include the *first_proposed* price.. to see better how things changed\n",
    "    '''\n",
    "    is_accept = False\n",
    "    buyer_amt, seller_amt, final_amt = -1, -1, -1\n",
    "    buyer_suggested, seller_suggested = -1, -1\n",
    "    for j in range(len(datapoint['scenario']['kbs'])):\n",
    "        if datapoint['scenario']['kbs'][j]['personal']['Role'] == 'buyer': \n",
    "            buyer_suggested = datapoint['scenario']['kbs'][j]['personal']['Target']\n",
    "        if datapoint['scenario']['kbs'][j]['personal']['Role'] == 'seller': \n",
    "            seller_suggested = datapoint['scenario']['kbs'][j]['personal']['Target']\n",
    "    for j in range(len(datapoint['events'])):\n",
    "        if datapoint['events'][j]['action'] == 'offer':\n",
    "            final_amt = datapoint['events'][j]['data']['price']\n",
    "        if datapoint['events'][j]['action'] == 'accept': is_accept = True\n",
    "    buyer_proposed = False\n",
    "    seller_proposed = False\n",
    "    for j in range(len(datapoint['events'])):\n",
    "        if 'buyer_propose' in datapoint['events'][j]['strategies'] and buyer_proposed == False:\n",
    "            buyer_proposed = True\n",
    "            buyer_amt = getAmountFromSent(datapoint['events'][j]['data'])\n",
    "        if 'seller_propose' in datapoint['events'][j]['strategies'] and seller_proposed == False:\n",
    "            seller_proposed = True\n",
    "            seller_amt = getAmountFromSent(datapoint['events'][j]['data'])\n",
    "#     print_conv(datapoint)\n",
    "    if is_accept == False:\n",
    "        final_amt = -1\n",
    "    buyer_amt = min(buyer_amt, buyer_suggested) # take min for buyer\n",
    "    seller_amt = max(seller_amt, seller_suggested) # take max for seller\n",
    "#     print ('buyer suggested : ', buyer_suggested)\n",
    "#     print ('seller suggested : ', seller_suggested)\n",
    "#     print ('buyer amt : ', buyer_amt)\n",
    "#     print ('seller amt: ', seller_amt)\n",
    "#     print ('final amt : ', final_amt)\n",
    "#     pdb.set_trace()\n",
    "    return buyer_amt, seller_amt, final_amt, is_accept"
   ]
  },
  {
   "cell_type": "code",
   "execution_count": null,
   "metadata": {},
   "outputs": [
    {
     "name": "stdout",
     "output_type": "stream",
     "text": [
      "For dtype :  train\n",
      "5383\n",
      "total :  5383\n",
      "not_acc: 1310\n",
      "For dtype :  test\n",
      "656\n",
      "total :  656\n",
      "not_acc: 185\n",
      "For dtype :  dev\n",
      "643\n",
      "total :  643\n",
      "not_acc: 182\n"
     ]
    }
   ],
   "source": [
    "for dtype in data_w_strategies:\n",
    "    print ('For dtype : ', dtype)\n",
    "    data = data_w_strategies[dtype]\n",
    "    total = len(data)\n",
    "    not_accepts = 0\n",
    "    not_buyer_propose_in_accepted = 0\n",
    "    print (len(data))\n",
    "    for i in range(len(data)):\n",
    "        datapoint = data[i]\n",
    "        buyer_amt, seller_amt, final_amt, is_accept = getAmounts(datapoint)\n",
    "        if final_amt == -1:\n",
    "            not_accepts += 1\n",
    "        data[i]['outcome']['buyer_start_amt'] = buyer_amt\n",
    "        data[i]['outcome']['seller_suggested_amt'] = seller_amt\n",
    "        data[i]['outcome']['accepted_amt'] = final_amt\n",
    "    print ('total : ', total)\n",
    "    print ('not_acc:', not_accepts)"
   ]
  },
  {
   "cell_type": "code",
   "execution_count": null,
   "metadata": {},
   "outputs": [],
   "source": [
    "pickle.dump(data_w_strategies, open('../../data/negotiation_data/data_w_strategies_outcomes.pkl', 'wb'))"
   ]
  },
  {
   "cell_type": "code",
   "execution_count": null,
   "metadata": {},
   "outputs": [],
   "source": []
  }
 ],
 "metadata": {
  "kernelspec": {
   "display_name": "Python 3",
   "language": "python",
   "name": "python3"
  },
  "language_info": {
   "codemirror_mode": {
    "name": "ipython",
    "version": 3
   },
   "file_extension": ".py",
   "mimetype": "text/x-python",
   "name": "python",
   "nbconvert_exporter": "python",
   "pygments_lexer": "ipython3",
   "version": "3.7.12"
  }
 },
 "nbformat": 4,
 "nbformat_minor": 4
}
